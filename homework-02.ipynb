{
 "cells": [
  {
   "cell_type": "markdown",
   "metadata": {},
   "source": [
    "# Домашная работа 2. Numpy & Pandas\n",
    "\n",
    "1. Скачайте этот ноутбук к себе.\n",
    "2. Заполните пропущенные ячейки, отвечая на заданные вопросы. Там должен быть код! (если не сказано обратное)\n",
    "3. Сохраните результат в своём гитхаб репозитории.\n",
    "4. Пришлите на почту *ml-teachers* ссылку на этот файл в вашем репозитории.\n",
    "5. В теме письма указать `ML Homework #2: Name Surname`. Если тема будет неправильная, то задание не будет проверено.\n",
    "\n",
    "**Дедлайн: 3.11.2017 6:00 OMSK**\n",
    "\n",
    "## Numpy\n",
    "\n",
    "#### Полезная литература\n",
    "\n",
    "- http://www.numpy.org/\n",
    "- https://jakevdp.github.io/PythonDataScienceHandbook/02.00-introduction-to-numpy.html\n",
    "- https://docs.scipy.org/doc/numpy-dev/user/quickstart.html"
   ]
  },
  {
   "cell_type": "markdown",
   "metadata": {},
   "source": [
    "1) Импортировать numpy и написать версию"
   ]
  },
  {
   "cell_type": "code",
   "execution_count": 2,
   "metadata": {},
   "outputs": [
    {
     "ename": "NameError",
     "evalue": "name 'numpy' is not defined",
     "output_type": "error",
     "traceback": [
      "\u001b[1;31m---------------------------------------------------------------------------\u001b[0m",
      "\u001b[1;31mNameError\u001b[0m                                 Traceback (most recent call last)",
      "\u001b[1;32m<ipython-input-2-af194995b6eb>\u001b[0m in \u001b[0;36m<module>\u001b[1;34m\u001b[0m\n\u001b[0;32m      1\u001b[0m \u001b[1;32mimport\u001b[0m \u001b[0mnumpy\u001b[0m \u001b[1;32mas\u001b[0m \u001b[0mnp\u001b[0m\u001b[1;33m\u001b[0m\u001b[1;33m\u001b[0m\u001b[0m\n\u001b[1;32m----> 2\u001b[1;33m \u001b[0mnumpy\u001b[0m\u001b[1;33m.\u001b[0m\u001b[0m__version__\u001b[0m\u001b[1;33m\u001b[0m\u001b[1;33m\u001b[0m\u001b[0m\n\u001b[0m",
      "\u001b[1;31mNameError\u001b[0m: name 'numpy' is not defined"
     ]
    }
   ],
   "source": [
    "import numpy as np\n",
    "numpy.__version__"
   ]
  },
  {
   "cell_type": "markdown",
   "metadata": {},
   "source": [
    "2) Создать нулевой вектор размера 10"
   ]
  },
  {
   "cell_type": "code",
   "execution_count": 8,
   "metadata": {},
   "outputs": [
    {
     "data": {
      "text/plain": [
       "array([0., 0., 0., 0., 0., 0., 0., 0., 0., 0.])"
      ]
     },
     "execution_count": 8,
     "metadata": {},
     "output_type": "execute_result"
    }
   ],
   "source": [
    "x=np.zeros(10)\n",
    "x"
   ]
  },
  {
   "cell_type": "markdown",
   "metadata": {},
   "source": [
    "3) Создать вектор заполненный 7-ами размера 7"
   ]
  },
  {
   "cell_type": "code",
   "execution_count": 15,
   "metadata": {},
   "outputs": [
    {
     "data": {
      "text/plain": [
       "array([7, 7, 7, 7, 7, 7, 7])"
      ]
     },
     "execution_count": 15,
     "metadata": {},
     "output_type": "execute_result"
    }
   ],
   "source": [
    "np.full(7,7)"
   ]
  },
  {
   "cell_type": "markdown",
   "metadata": {},
   "source": [
    "4) Создать вектор заполненный четными числами от 10 до 100"
   ]
  },
  {
   "cell_type": "code",
   "execution_count": 22,
   "metadata": {},
   "outputs": [
    {
     "data": {
      "text/plain": [
       "array([11, 13, 15, 17, 19, 21, 23, 25, 27, 29, 31, 33, 35, 37, 39, 41, 43,\n",
       "       45, 47, 49, 51, 53, 55, 57, 59, 61, 63, 65, 67, 69, 71, 73, 75, 77,\n",
       "       79, 81, 83, 85, 87, 89, 91, 93, 95, 97, 99])"
      ]
     },
     "execution_count": 22,
     "metadata": {},
     "output_type": "execute_result"
    }
   ],
   "source": [
    "arr = np.arange(10,100)\n",
    "arr2 = arr[arr % 2 != 0]\n",
    "arr2"
   ]
  },
  {
   "cell_type": "markdown",
   "metadata": {},
   "source": [
    "5) Создать массив случайных чисел и развернуть его задом наперёд"
   ]
  },
  {
   "cell_type": "code",
   "execution_count": 42,
   "metadata": {},
   "outputs": [
    {
     "name": "stdout",
     "output_type": "stream",
     "text": [
      "[0.30375759 0.86625387 0.54340358]\n",
      "[0.54340358 0.86625387 0.30375759]\n"
     ]
    }
   ],
   "source": [
    "arr = np.random.random_sample(3)\n",
    "print(arr)\n",
    "arr2 = arr[::-1]\n",
    "print(arr2)"
   ]
  },
  {
   "cell_type": "markdown",
   "metadata": {},
   "source": [
    "6) Создать двумерную матрицу размера 3 на 3, заполненную числами от 0 до 9"
   ]
  },
  {
   "cell_type": "code",
   "execution_count": 46,
   "metadata": {},
   "outputs": [
    {
     "data": {
      "text/plain": [
       "array([[0, 1, 2],\n",
       "       [3, 4, 5],\n",
       "       [6, 7, 8]])"
      ]
     },
     "execution_count": 46,
     "metadata": {},
     "output_type": "execute_result"
    }
   ],
   "source": [
    "arr = np.arange(9)\n",
    "arr.reshape(3,3)"
   ]
  },
  {
   "cell_type": "markdown",
   "metadata": {},
   "source": [
    "7) Создать матрицу размера 4 на 4 с единицами на диагонали смещеной на один наверх."
   ]
  },
  {
   "cell_type": "code",
   "execution_count": 52,
   "metadata": {},
   "outputs": [
    {
     "data": {
      "text/plain": [
       "array([[0, 1, 0, 0, 0],\n",
       "       [0, 0, 1, 0, 0],\n",
       "       [0, 0, 0, 1, 0],\n",
       "       [0, 0, 0, 0, 1],\n",
       "       [0, 0, 0, 0, 0]])"
      ]
     },
     "execution_count": 52,
     "metadata": {},
     "output_type": "execute_result"
    }
   ],
   "source": [
    "np.diag([1,1,1,1],1)"
   ]
  },
  {
   "cell_type": "markdown",
   "metadata": {},
   "source": [
    "8) Создать матрицу с числами в диапазоне от 1 до 4 по диагонали. В других ячейках матрицы должны быть семерки."
   ]
  },
  {
   "cell_type": "code",
   "execution_count": 88,
   "metadata": {},
   "outputs": [
    {
     "data": {
      "text/plain": [
       "array([[1, 7, 7, 7],\n",
       "       [7, 2, 7, 7],\n",
       "       [7, 7, 3, 7],\n",
       "       [7, 7, 7, 4]])"
      ]
     },
     "execution_count": 88,
     "metadata": {},
     "output_type": "execute_result"
    }
   ],
   "source": [
    "a = np.array([[1, 7, 7, 7], [7, 2, 7, 7], [7, 7, 3, 7], [7, 7, 7, 4]])\n",
    "a"
   ]
  },
  {
   "cell_type": "markdown",
   "metadata": {},
   "source": [
    "9) Создать матрицу размера 5 на 5 заполненную чилами от 0 до 4 в строках."
   ]
  },
  {
   "cell_type": "code",
   "execution_count": 20,
   "metadata": {},
   "outputs": [
    {
     "data": {
      "text/plain": [
       "array([[0, 1, 2, 3, 4],\n",
       "       [0, 1, 2, 3, 4],\n",
       "       [0, 1, 2, 3, 4],\n",
       "       [0, 1, 2, 3, 4],\n",
       "       [0, 1, 2, 3, 4]])"
      ]
     },
     "execution_count": 20,
     "metadata": {},
     "output_type": "execute_result"
    }
   ],
   "source": [
    "arr = np.arange(5)\n",
    "np.full((5,5), arr)"
   ]
  },
  {
   "cell_type": "markdown",
   "metadata": {},
   "source": [
    "10) Создать матрицу случайных чисел размера 10 на 10 и отнять среднее по строкам из каждого элемента строки"
   ]
  },
  {
   "cell_type": "code",
   "execution_count": 52,
   "metadata": {},
   "outputs": [
    {
     "name": "stdout",
     "output_type": "stream",
     "text": [
      "[[0.87321153 0.08411409 0.36403097 0.96950964 0.13248105 0.84295322\n",
      "  0.80240408 0.32092443 0.55392297 0.58950685]\n",
      " [0.33579636 0.65002067 0.78925022 0.75063461 0.15069266 0.20846606\n",
      "  0.85990168 0.10885997 0.0064305  0.65053583]\n",
      " [0.20176576 0.63459487 0.83241962 0.22171284 0.64995544 0.79492272\n",
      "  0.61306567 0.26740418 0.97364228 0.87459485]\n",
      " [0.70786831 0.91877007 0.37812865 0.9817799  0.6667421  0.51224763\n",
      "  0.62535008 0.88832048 0.61881827 0.48882086]\n",
      " [0.08881538 0.88870876 0.44686832 0.78314291 0.25291602 0.39962467\n",
      "  0.19554521 0.33325817 0.58974658 0.74307707]\n",
      " [0.79263859 0.58583051 0.84165072 0.92157009 0.11329099 0.36851275\n",
      "  0.56480298 0.30924944 0.68640368 0.93754851]\n",
      " [0.13033688 0.27091169 0.00160245 0.78009141 0.66026569 0.83910403\n",
      "  0.06795521 0.31775619 0.43190309 0.46362942]\n",
      " [0.94136183 0.78846567 0.62892664 0.26952238 0.55439432 0.08596731\n",
      "  0.25973874 0.43980885 0.40883879 0.89614375]\n",
      " [0.63107341 0.62975092 0.31110065 0.69149359 0.11697615 0.83014419\n",
      "  0.57229055 0.14454699 0.48707217 0.86395533]\n",
      " [0.77045615 0.46341539 0.44907698 0.0245274  0.70381342 0.54952551\n",
      "  0.91540234 0.79182145 0.18921572 0.27245693]]\n"
     ]
    },
    {
     "data": {
      "text/plain": [
       "array([[ 0.31990565, -0.36694477, -0.24237685,  0.290825  , -0.33968926,\n",
       "         0.23080339,  0.40604847, -0.2063924 ,  0.02608257,  0.07653572],\n",
       "       [-0.21750952,  0.19896181,  0.1828424 ,  0.07194998, -0.32147765,\n",
       "        -0.40368377,  0.46354608, -0.41845686, -0.52140989,  0.1375647 ],\n",
       "       [-0.35154012,  0.18353601,  0.22601179, -0.45697179,  0.17778513,\n",
       "         0.18277289,  0.21671007, -0.25991265,  0.44580189,  0.36162372],\n",
       "       [ 0.15456243,  0.46771121, -0.22827918,  0.30309527,  0.19457179,\n",
       "        -0.0999022 ,  0.22899447,  0.36100365,  0.09097787, -0.02415027],\n",
       "       [-0.4644905 ,  0.43764991, -0.1595395 ,  0.10445828, -0.21925428,\n",
       "        -0.21252516, -0.2008104 , -0.19405866,  0.06190619,  0.23010594],\n",
       "       [ 0.23933271,  0.13477166,  0.2352429 ,  0.24288546, -0.35887931,\n",
       "        -0.24363708,  0.16844738, -0.21806739,  0.15856329,  0.42457738],\n",
       "       [-0.422969  , -0.18014716, -0.60480537,  0.10140677,  0.18809539,\n",
       "         0.2269542 , -0.3284004 , -0.20956064, -0.0959373 , -0.04934171],\n",
       "       [ 0.38805595,  0.33740682,  0.02251882, -0.40916226,  0.08222401,\n",
       "        -0.52618252, -0.13661686, -0.08750797, -0.1190016 ,  0.38317262],\n",
       "       [ 0.07776753,  0.17869206, -0.29530718,  0.01280896, -0.35519416,\n",
       "         0.21799436,  0.17593494, -0.38276984, -0.04076823,  0.3509842 ],\n",
       "       [ 0.21715027,  0.01235653, -0.15733084, -0.65415723,  0.23164311,\n",
       "        -0.06262432,  0.51904673,  0.26450462, -0.33862467, -0.2405142 ]])"
      ]
     },
     "execution_count": 52,
     "metadata": {},
     "output_type": "execute_result"
    }
   ],
   "source": [
    "arr = np.random.random_sample((10,10))\n",
    "print(arr)\n",
    "result = arr - arr.mean(axis=1)\n",
    "result"
   ]
  },
  {
   "cell_type": "markdown",
   "metadata": {},
   "source": [
    "12) Создать матрицу случайных чисел размера 10 на 10 и отнять медиану по столбцам из каждого элемента столбца"
   ]
  },
  {
   "cell_type": "code",
   "execution_count": 155,
   "metadata": {},
   "outputs": [
    {
     "name": "stdout",
     "output_type": "stream",
     "text": [
      "[[0.16554163 0.76815791 0.60826773 0.67383466 0.6059994  0.37046713\n",
      "  0.25576185 0.15030724 0.50212068 0.16289901]\n",
      " [0.50432469 0.87706928 0.72627488 0.46619927 0.82047886 0.33911329\n",
      "  0.39655787 0.84989542 0.99432891 0.50962932]\n",
      " [0.72179524 0.68131523 0.04418637 0.54190011 0.6881707  0.53992837\n",
      "  0.59600317 0.22696691 0.18516467 0.5455651 ]\n",
      " [0.99201536 0.64555183 0.36162025 0.74832243 0.3933144  0.35738732\n",
      "  0.58079679 0.13183818 0.80183125 0.12232022]\n",
      " [0.87594121 0.270428   0.495894   0.86833062 0.48806859 0.44946292\n",
      "  0.90760795 0.48710189 0.89569912 0.61526386]\n",
      " [0.44081386 0.47644848 0.82444648 0.29961536 0.17053242 0.49698603\n",
      "  0.52465223 0.90718993 0.39131207 0.63013872]\n",
      " [0.69064103 0.42690219 0.51476709 0.11283229 0.19295297 0.16130401\n",
      "  0.36125158 0.36753443 0.47434273 0.9019587 ]\n",
      " [0.50786043 0.10572263 0.90140692 0.13677878 0.92165795 0.93810162\n",
      "  0.93309169 0.66368213 0.99192821 0.85397513]\n",
      " [0.91915319 0.10737194 0.83612339 0.38789126 0.35396862 0.97033051\n",
      "  0.44212596 0.97260965 0.83978833 0.37191275]\n",
      " [0.35117678 0.71033969 0.66693827 0.7283277  0.96108968 0.84431299\n",
      "  0.45298617 0.61028905 0.91483784 0.37911778]]\n"
     ]
    },
    {
     "data": {
      "text/plain": [
       "array([0.59925073, 0.56100015, 0.637603  , 0.50404969, 0.547034  ,\n",
       "       0.47322448, 0.4888192 , 0.54869547, 0.82080979, 0.52759721])"
      ]
     },
     "execution_count": 155,
     "metadata": {},
     "output_type": "execute_result"
    }
   ],
   "source": [
    "arr = np.random.random_sample((10,10))\n",
    "print(arr)\n",
    "np.median(arr, axis=0)\n"
   ]
  },
  {
   "cell_type": "markdown",
   "metadata": {},
   "source": [
    "13) Создать матрицу случайных чисел 5x5. Добавить к ней столбецы максимумов и минимумов по строкам. Получится матрица 5x7."
   ]
  },
  {
   "cell_type": "code",
   "execution_count": 186,
   "metadata": {
    "scrolled": true
   },
   "outputs": [
    {
     "name": "stdout",
     "output_type": "stream",
     "text": [
      "[[0.64996717 0.8167481  0.50607158 0.44431158 0.86890087]\n",
      " [0.00409344 0.82989133 0.2980661  0.75961254 0.91884284]\n",
      " [0.73101759 0.57625135 0.88861659 0.91882988 0.87062503]\n",
      " [0.66276902 0.74651194 0.07300364 0.17301955 0.25420627]\n",
      " [0.00533147 0.82227128 0.67950473 0.1109155  0.27749917]]\n",
      "[0.44431158 0.00409344 0.57625135 0.07300364 0.00533147]\n",
      "[0.86890087 0.91884284 0.91882988 0.74651194 0.82227128]\n"
     ]
    }
   ],
   "source": [
    "arr = np.random.random_sample((5,5))\n",
    "min = np.amin(arr, axis = 1)\n",
    "max = np.amax(arr, axis = 1)\n",
    "print(arr)\n",
    "print(min)\n",
    "print(max)\n",
    "arr_result = np.vstack((arr,min))\n",
    "arr_result = np.vstack((arr2,max))"
   ]
  },
  {
   "cell_type": "markdown",
   "metadata": {},
   "source": [
    "14) Вектор чисел от 1 до 51 преобразовать в вектор нечетных чисел и в вектор четных чисел, поменять их размерности, чтобы получились две матрица. Найти произведение этих матриц. Найти обратную матрицу эётого произведения."
   ]
  },
  {
   "cell_type": "code",
   "execution_count": 226,
   "metadata": {},
   "outputs": [
    {
     "name": "stdout",
     "output_type": "stream",
     "text": [
      "[[ 2  4  6  8 10]\n",
      " [12 14 16 18 20]\n",
      " [22 24 26 28 30]\n",
      " [32 34 36 38 40]\n",
      " [42 44 46 48 50]]\n",
      "[[ 1  3  5  7  9]\n",
      " [11 13 15 17 19]\n",
      " [21 23 25 27 29]\n",
      " [31 33 35 37 39]\n",
      " [41 43 45 47 49]]\n",
      "[[   2   12   30   56   90]\n",
      " [ 132  182  240  306  380]\n",
      " [ 462  552  650  756  870]\n",
      " [ 992 1122 1260 1406 1560]\n",
      " [1722 1892 2070 2256 2450]]\n"
     ]
    },
    {
     "ename": "LinAlgError",
     "evalue": "Singular matrix",
     "output_type": "error",
     "traceback": [
      "\u001b[1;31m---------------------------------------------------------------------------\u001b[0m",
      "\u001b[1;31mLinAlgError\u001b[0m                               Traceback (most recent call last)",
      "\u001b[1;32m<ipython-input-226-bf07cd1e46d3>\u001b[0m in \u001b[0;36m<module>\u001b[1;34m\u001b[0m\n\u001b[0;32m      9\u001b[0m \u001b[0mproizved\u001b[0m \u001b[1;33m=\u001b[0m \u001b[0marr_chet_reshape\u001b[0m \u001b[1;33m*\u001b[0m \u001b[0marr_nechet_reshape\u001b[0m\u001b[1;33m\u001b[0m\u001b[1;33m\u001b[0m\u001b[0m\n\u001b[0;32m     10\u001b[0m \u001b[0mprint\u001b[0m\u001b[1;33m(\u001b[0m\u001b[0mproizved\u001b[0m\u001b[1;33m)\u001b[0m\u001b[1;33m\u001b[0m\u001b[1;33m\u001b[0m\u001b[0m\n\u001b[1;32m---> 11\u001b[1;33m \u001b[0marr_inv\u001b[0m \u001b[1;33m=\u001b[0m \u001b[0mLA\u001b[0m\u001b[1;33m.\u001b[0m\u001b[0minv\u001b[0m\u001b[1;33m(\u001b[0m\u001b[0mproizved\u001b[0m\u001b[1;33m)\u001b[0m\u001b[1;33m\u001b[0m\u001b[1;33m\u001b[0m\u001b[0m\n\u001b[0m\u001b[0;32m     12\u001b[0m \u001b[0mprint\u001b[0m\u001b[1;33m(\u001b[0m\u001b[0marr_inv\u001b[0m\u001b[1;33m)\u001b[0m\u001b[1;33m\u001b[0m\u001b[1;33m\u001b[0m\u001b[0m\n",
      "\u001b[1;32m<__array_function__ internals>\u001b[0m in \u001b[0;36minv\u001b[1;34m(*args, **kwargs)\u001b[0m\n",
      "\u001b[1;32mc:\\python\\lib\\site-packages\\numpy\\linalg\\linalg.py\u001b[0m in \u001b[0;36minv\u001b[1;34m(a)\u001b[0m\n\u001b[0;32m    544\u001b[0m     \u001b[0msignature\u001b[0m \u001b[1;33m=\u001b[0m \u001b[1;34m'D->D'\u001b[0m \u001b[1;32mif\u001b[0m \u001b[0misComplexType\u001b[0m\u001b[1;33m(\u001b[0m\u001b[0mt\u001b[0m\u001b[1;33m)\u001b[0m \u001b[1;32melse\u001b[0m \u001b[1;34m'd->d'\u001b[0m\u001b[1;33m\u001b[0m\u001b[1;33m\u001b[0m\u001b[0m\n\u001b[0;32m    545\u001b[0m     \u001b[0mextobj\u001b[0m \u001b[1;33m=\u001b[0m \u001b[0mget_linalg_error_extobj\u001b[0m\u001b[1;33m(\u001b[0m\u001b[0m_raise_linalgerror_singular\u001b[0m\u001b[1;33m)\u001b[0m\u001b[1;33m\u001b[0m\u001b[1;33m\u001b[0m\u001b[0m\n\u001b[1;32m--> 546\u001b[1;33m     \u001b[0mainv\u001b[0m \u001b[1;33m=\u001b[0m \u001b[0m_umath_linalg\u001b[0m\u001b[1;33m.\u001b[0m\u001b[0minv\u001b[0m\u001b[1;33m(\u001b[0m\u001b[0ma\u001b[0m\u001b[1;33m,\u001b[0m \u001b[0msignature\u001b[0m\u001b[1;33m=\u001b[0m\u001b[0msignature\u001b[0m\u001b[1;33m,\u001b[0m \u001b[0mextobj\u001b[0m\u001b[1;33m=\u001b[0m\u001b[0mextobj\u001b[0m\u001b[1;33m)\u001b[0m\u001b[1;33m\u001b[0m\u001b[1;33m\u001b[0m\u001b[0m\n\u001b[0m\u001b[0;32m    547\u001b[0m     \u001b[1;32mreturn\u001b[0m \u001b[0mwrap\u001b[0m\u001b[1;33m(\u001b[0m\u001b[0mainv\u001b[0m\u001b[1;33m.\u001b[0m\u001b[0mastype\u001b[0m\u001b[1;33m(\u001b[0m\u001b[0mresult_t\u001b[0m\u001b[1;33m,\u001b[0m \u001b[0mcopy\u001b[0m\u001b[1;33m=\u001b[0m\u001b[1;32mFalse\u001b[0m\u001b[1;33m)\u001b[0m\u001b[1;33m)\u001b[0m\u001b[1;33m\u001b[0m\u001b[1;33m\u001b[0m\u001b[0m\n\u001b[0;32m    548\u001b[0m \u001b[1;33m\u001b[0m\u001b[0m\n",
      "\u001b[1;32mc:\\python\\lib\\site-packages\\numpy\\linalg\\linalg.py\u001b[0m in \u001b[0;36m_raise_linalgerror_singular\u001b[1;34m(err, flag)\u001b[0m\n\u001b[0;32m     86\u001b[0m \u001b[1;33m\u001b[0m\u001b[0m\n\u001b[0;32m     87\u001b[0m \u001b[1;32mdef\u001b[0m \u001b[0m_raise_linalgerror_singular\u001b[0m\u001b[1;33m(\u001b[0m\u001b[0merr\u001b[0m\u001b[1;33m,\u001b[0m \u001b[0mflag\u001b[0m\u001b[1;33m)\u001b[0m\u001b[1;33m:\u001b[0m\u001b[1;33m\u001b[0m\u001b[1;33m\u001b[0m\u001b[0m\n\u001b[1;32m---> 88\u001b[1;33m     \u001b[1;32mraise\u001b[0m \u001b[0mLinAlgError\u001b[0m\u001b[1;33m(\u001b[0m\u001b[1;34m\"Singular matrix\"\u001b[0m\u001b[1;33m)\u001b[0m\u001b[1;33m\u001b[0m\u001b[1;33m\u001b[0m\u001b[0m\n\u001b[0m\u001b[0;32m     89\u001b[0m \u001b[1;33m\u001b[0m\u001b[0m\n\u001b[0;32m     90\u001b[0m \u001b[1;32mdef\u001b[0m \u001b[0m_raise_linalgerror_nonposdef\u001b[0m\u001b[1;33m(\u001b[0m\u001b[0merr\u001b[0m\u001b[1;33m,\u001b[0m \u001b[0mflag\u001b[0m\u001b[1;33m)\u001b[0m\u001b[1;33m:\u001b[0m\u001b[1;33m\u001b[0m\u001b[1;33m\u001b[0m\u001b[0m\n",
      "\u001b[1;31mLinAlgError\u001b[0m: Singular matrix"
     ]
    }
   ],
   "source": [
    "arr = np.arange(1,51)\n",
    "arr_chet = arr[arr % 2 == 0]\n",
    "arr_nechet = arr[arr % 2 != 0]\n",
    "arr_chet_reshape = arr_chet.reshape(5,5)\n",
    "arr_nechet_reshape = arr_nechet.reshape(5,5)\n",
    "print(arr_chet_reshape)\n",
    "print(arr_nechet_reshape)\n",
    "proizved = arr_chet_reshape * arr_nechet_reshape\n",
    "print(proizved)\n",
    "arr_inv = np.linalg.inv(proizved)\n",
    "print(arr_inv)\n"
   ]
  },
  {
   "cell_type": "markdown",
   "metadata": {},
   "source": [
    "15) Создать 8x8 матрицу и заполнить её в шахматном порядке нулями и единицами."
   ]
  },
  {
   "cell_type": "code",
   "execution_count": 244,
   "metadata": {},
   "outputs": [
    {
     "data": {
      "text/plain": [
       "array([[0, 1, 0, 1, 0, 1, 0, 1],\n",
       "       [1, 0, 1, 0, 1, 0, 1, 0],\n",
       "       [0, 1, 0, 1, 0, 1, 0, 1],\n",
       "       [1, 0, 1, 0, 1, 0, 1, 0],\n",
       "       [0, 1, 0, 1, 0, 1, 0, 1],\n",
       "       [1, 0, 1, 0, 1, 0, 1, 0],\n",
       "       [0, 1, 0, 1, 0, 1, 0, 1],\n",
       "       [1, 0, 1, 0, 1, 0, 1, 0]])"
      ]
     },
     "execution_count": 244,
     "metadata": {},
     "output_type": "execute_result"
    }
   ],
   "source": [
    "a = np.array([[0, 1, 0, 1,0, 1, 0, 1],\n",
    "              [1, 0, 1, 0, 1, 0, 1, 0],\n",
    "              [0, 1, 0, 1,0, 1, 0, 1], \n",
    "              [1, 0, 1, 0, 1, 0, 1, 0],\n",
    "              [0, 1, 0, 1,0, 1, 0, 1],\n",
    "              [1, 0, 1, 0, 1, 0, 1, 0], \n",
    "              [0, 1, 0, 1,0, 1, 0, 1], \n",
    "              [1, 0, 1, 0, 1, 0, 1, 0]])\n",
    "a"
   ]
  },
  {
   "cell_type": "markdown",
   "metadata": {},
   "source": [
    "## Pandas\n",
    "\n",
    "#### Полезная литература\n",
    "\n",
    "- http://pandas.pydata.org/pandas-docs/stable/10min.html\n",
    "- https://pandas.pydata.org/pandas-docs/stable/indexing.html\n",
    "- https://pandas.pydata.org/pandas-docs/stable/missing_data.html"
   ]
  },
  {
   "cell_type": "markdown",
   "metadata": {},
   "source": [
    "В этом задании мы с вами рассмотрим датасет [Adult Data Set](https://archive.ics.uci.edu/ml/datasets/Adult).\n",
    "Основывается он на данных переписи населения 1994 года в США.\n",
    "\n",
    "Расшифровка содержимого колонок:\n",
    "\n",
    "- age: continuous. \n",
    "- workclass: Private, Self-emp-not-inc, Self-emp-inc, Federal-gov, Local-gov, State-gov, Without-pay, Never-worked. \n",
    "- fnlwgt: continuous. sampling weight, more here: SIPP Weighting.\n",
    "- education: Bachelors, Some-college, 11th, HS-grad, Prof-school, Assoc-acdm, Assoc-voc, 9th, 7th-8th, 12th, Masters, 1st-4th, 10th, Doctorate, 5th-6th, Preschool. \n",
    "- education-num: continuous. \n",
    "- marital-status: Married-civ-spouse, Divorced, Never-married, Separated, Widowed, Married-spouse-absent, Married-AF-spouse. \n",
    "- occupation: Tech-support, Craft-repair, Other-service, Sales, Exec-managerial, Prof-specialty, Handlers-cleaners, Machine-op-inspct, Adm-clerical, Farming-fishing, Transport-moving, Priv-house-serv, Protective-serv, Armed-Forces. \n",
    "- relationship: Wife, Own-child, Husband, Not-in-family, Other-relative, Unmarried. \n",
    "- race: White, Asian-Pac-Islander, Amer-Indian-Eskimo, Other, Black. \n",
    "- sex: Female, Male. \n",
    "- capital-gain: continuous. Income from investment sources, apart from wages/salary.\n",
    "- capital-loss: continuous. Losses from investment sources, apart from wages/salary.\n",
    "- hours-per-week: continuous. \n",
    "- native-country: United-States, Cambodia, England, Puerto-Rico, Canada, Germany, Outlying-US(Guam-USVI-etc), India, Japan, Greece, South, China, Cuba, Iran, Honduras, Philippines, Italy, Poland, Jamaica, Vietnam, Mexico, Portugal, Ireland, France, Dominican-Republic, Laos, Ecuador, Taiwan, Haiti, Columbia, Hungary, Guatemala, Nicaragua, Scotland, Thailand, Yugoslavia, El-Salvador, Trinadad&Tobago, Peru, Hong, Holand-Netherlands."
   ]
  },
  {
   "cell_type": "code",
   "execution_count": 15,
   "metadata": {},
   "outputs": [
    {
     "data": {
      "text/plain": [
       "'1.1.4'"
      ]
     },
     "execution_count": 15,
     "metadata": {},
     "output_type": "execute_result"
    }
   ],
   "source": [
    "%matplotlib inline\n",
    "import pandas as pd\n",
    "import numpy as np\n",
    "pd.__version__"
   ]
  },
  {
   "cell_type": "code",
   "execution_count": 44,
   "metadata": {},
   "outputs": [
    {
     "data": {
      "text/html": [
       "<div>\n",
       "<style scoped>\n",
       "    .dataframe tbody tr th:only-of-type {\n",
       "        vertical-align: middle;\n",
       "    }\n",
       "\n",
       "    .dataframe tbody tr th {\n",
       "        vertical-align: top;\n",
       "    }\n",
       "\n",
       "    .dataframe thead th {\n",
       "        text-align: right;\n",
       "    }\n",
       "</style>\n",
       "<table border=\"1\" class=\"dataframe\">\n",
       "  <thead>\n",
       "    <tr style=\"text-align: right;\">\n",
       "      <th></th>\n",
       "      <th>a1</th>\n",
       "      <th>a2</th>\n",
       "      <th>a3</th>\n",
       "      <th>a4</th>\n",
       "      <th>a5</th>\n",
       "    </tr>\n",
       "  </thead>\n",
       "  <tbody>\n",
       "    <tr>\n",
       "      <th>2017-01-01</th>\n",
       "      <td>-0.784660</td>\n",
       "      <td>-1.489696</td>\n",
       "      <td>0.182502</td>\n",
       "      <td>-1.070064</td>\n",
       "      <td>-0.012675</td>\n",
       "    </tr>\n",
       "    <tr>\n",
       "      <th>2017-01-02</th>\n",
       "      <td>0.503997</td>\n",
       "      <td>0.155188</td>\n",
       "      <td>-0.425947</td>\n",
       "      <td>-1.284961</td>\n",
       "      <td>-0.763408</td>\n",
       "    </tr>\n",
       "    <tr>\n",
       "      <th>2017-01-03</th>\n",
       "      <td>-1.744420</td>\n",
       "      <td>-1.374626</td>\n",
       "      <td>1.825183</td>\n",
       "      <td>0.261013</td>\n",
       "      <td>-1.146550</td>\n",
       "    </tr>\n",
       "    <tr>\n",
       "      <th>2017-01-04</th>\n",
       "      <td>-0.062252</td>\n",
       "      <td>1.013676</td>\n",
       "      <td>-0.437205</td>\n",
       "      <td>2.396219</td>\n",
       "      <td>0.338519</td>\n",
       "    </tr>\n",
       "    <tr>\n",
       "      <th>2017-01-05</th>\n",
       "      <td>0.148860</td>\n",
       "      <td>-1.004801</td>\n",
       "      <td>1.203255</td>\n",
       "      <td>-0.525509</td>\n",
       "      <td>-0.220824</td>\n",
       "    </tr>\n",
       "    <tr>\n",
       "      <th>2017-01-06</th>\n",
       "      <td>-0.962934</td>\n",
       "      <td>0.422462</td>\n",
       "      <td>-0.242010</td>\n",
       "      <td>0.531546</td>\n",
       "      <td>0.801518</td>\n",
       "    </tr>\n",
       "    <tr>\n",
       "      <th>2017-01-07</th>\n",
       "      <td>0.768170</td>\n",
       "      <td>0.038625</td>\n",
       "      <td>1.829314</td>\n",
       "      <td>-1.106608</td>\n",
       "      <td>-1.198362</td>\n",
       "    </tr>\n",
       "    <tr>\n",
       "      <th>2017-01-08</th>\n",
       "      <td>-0.971481</td>\n",
       "      <td>2.275028</td>\n",
       "      <td>-0.563415</td>\n",
       "      <td>0.792686</td>\n",
       "      <td>0.332873</td>\n",
       "    </tr>\n",
       "    <tr>\n",
       "      <th>2017-01-09</th>\n",
       "      <td>-0.500851</td>\n",
       "      <td>-0.680359</td>\n",
       "      <td>0.558849</td>\n",
       "      <td>0.701494</td>\n",
       "      <td>0.190807</td>\n",
       "    </tr>\n",
       "    <tr>\n",
       "      <th>2017-01-10</th>\n",
       "      <td>0.453288</td>\n",
       "      <td>-0.916708</td>\n",
       "      <td>-2.043711</td>\n",
       "      <td>0.257631</td>\n",
       "      <td>0.912075</td>\n",
       "    </tr>\n",
       "    <tr>\n",
       "      <th>2017-01-11</th>\n",
       "      <td>1.571503</td>\n",
       "      <td>0.802310</td>\n",
       "      <td>-0.052054</td>\n",
       "      <td>0.132665</td>\n",
       "      <td>0.461230</td>\n",
       "    </tr>\n",
       "    <tr>\n",
       "      <th>2017-01-12</th>\n",
       "      <td>0.936375</td>\n",
       "      <td>0.716685</td>\n",
       "      <td>0.085895</td>\n",
       "      <td>-0.235760</td>\n",
       "      <td>0.744668</td>\n",
       "    </tr>\n",
       "  </tbody>\n",
       "</table>\n",
       "</div>"
      ],
      "text/plain": [
       "                  a1        a2        a3        a4        a5\n",
       "2017-01-01 -0.784660 -1.489696  0.182502 -1.070064 -0.012675\n",
       "2017-01-02  0.503997  0.155188 -0.425947 -1.284961 -0.763408\n",
       "2017-01-03 -1.744420 -1.374626  1.825183  0.261013 -1.146550\n",
       "2017-01-04 -0.062252  1.013676 -0.437205  2.396219  0.338519\n",
       "2017-01-05  0.148860 -1.004801  1.203255 -0.525509 -0.220824\n",
       "2017-01-06 -0.962934  0.422462 -0.242010  0.531546  0.801518\n",
       "2017-01-07  0.768170  0.038625  1.829314 -1.106608 -1.198362\n",
       "2017-01-08 -0.971481  2.275028 -0.563415  0.792686  0.332873\n",
       "2017-01-09 -0.500851 -0.680359  0.558849  0.701494  0.190807\n",
       "2017-01-10  0.453288 -0.916708 -2.043711  0.257631  0.912075\n",
       "2017-01-11  1.571503  0.802310 -0.052054  0.132665  0.461230\n",
       "2017-01-12  0.936375  0.716685  0.085895 -0.235760  0.744668"
      ]
     },
     "execution_count": 44,
     "metadata": {},
     "output_type": "execute_result"
    }
   ],
   "source": [
    "#пришлось создавать новый дадасет почему то не работает\n",
    "indexes = pd.date_range('20170101', periods=12)\n",
    "matrix = np.random.randn(12, 5)\n",
    "df = pd.DataFrame(data=matrix, index=indexes, columns=['a1', 'a2', 'a3', 'a4', 'a5'])\n",
    "df"
   ]
  },
  {
   "cell_type": "markdown",
   "metadata": {},
   "source": [
    "1) Выведите последние 10 элеметнов датасета  "
   ]
  },
  {
   "cell_type": "code",
   "execution_count": 33,
   "metadata": {},
   "outputs": [
    {
     "data": {
      "text/html": [
       "<div>\n",
       "<style scoped>\n",
       "    .dataframe tbody tr th:only-of-type {\n",
       "        vertical-align: middle;\n",
       "    }\n",
       "\n",
       "    .dataframe tbody tr th {\n",
       "        vertical-align: top;\n",
       "    }\n",
       "\n",
       "    .dataframe thead th {\n",
       "        text-align: right;\n",
       "    }\n",
       "</style>\n",
       "<table border=\"1\" class=\"dataframe\">\n",
       "  <thead>\n",
       "    <tr style=\"text-align: right;\">\n",
       "      <th></th>\n",
       "      <th>a1</th>\n",
       "      <th>a2</th>\n",
       "      <th>a3</th>\n",
       "      <th>a4</th>\n",
       "      <th>a5</th>\n",
       "    </tr>\n",
       "  </thead>\n",
       "  <tbody>\n",
       "    <tr>\n",
       "      <th>2017-01-10</th>\n",
       "      <td>1.607723</td>\n",
       "      <td>-0.093854</td>\n",
       "      <td>-0.104589</td>\n",
       "      <td>-0.614415</td>\n",
       "      <td>-0.178309</td>\n",
       "    </tr>\n",
       "    <tr>\n",
       "      <th>2017-01-11</th>\n",
       "      <td>-0.068718</td>\n",
       "      <td>1.055580</td>\n",
       "      <td>0.855205</td>\n",
       "      <td>-0.597120</td>\n",
       "      <td>2.214972</td>\n",
       "    </tr>\n",
       "    <tr>\n",
       "      <th>2017-01-12</th>\n",
       "      <td>-0.069894</td>\n",
       "      <td>-0.480980</td>\n",
       "      <td>1.878436</td>\n",
       "      <td>1.228109</td>\n",
       "      <td>-0.185358</td>\n",
       "    </tr>\n",
       "  </tbody>\n",
       "</table>\n",
       "</div>"
      ],
      "text/plain": [
       "                  a1        a2        a3        a4        a5\n",
       "2017-01-10  1.607723 -0.093854 -0.104589 -0.614415 -0.178309\n",
       "2017-01-11 -0.068718  1.055580  0.855205 -0.597120  2.214972\n",
       "2017-01-12 -0.069894 -0.480980  1.878436  1.228109 -0.185358"
      ]
     },
     "execution_count": 33,
     "metadata": {},
     "output_type": "execute_result"
    }
   ],
   "source": [
    "#вывожу последние 3 стороки\n",
    "df.tail(3)"
   ]
  },
  {
   "cell_type": "markdown",
   "metadata": {},
   "source": [
    "2) Сколько колонок и сколько строк в этом датасете?"
   ]
  },
  {
   "cell_type": "code",
   "execution_count": 34,
   "metadata": {},
   "outputs": [
    {
     "data": {
      "text/plain": [
       "(12, 5)"
      ]
     },
     "execution_count": 34,
     "metadata": {},
     "output_type": "execute_result"
    }
   ],
   "source": [
    "df.shape"
   ]
  },
  {
   "cell_type": "markdown",
   "metadata": {},
   "source": [
    "3) Какие типы данных у элементов этого датасета?"
   ]
  },
  {
   "cell_type": "code",
   "execution_count": 35,
   "metadata": {},
   "outputs": [
    {
     "name": "stdout",
     "output_type": "stream",
     "text": [
      "<class 'pandas.core.frame.DataFrame'>\n",
      "DatetimeIndex: 12 entries, 2017-01-01 to 2017-01-12\n",
      "Freq: D\n",
      "Data columns (total 5 columns):\n",
      " #   Column  Non-Null Count  Dtype  \n",
      "---  ------  --------------  -----  \n",
      " 0   a1      12 non-null     float64\n",
      " 1   a2      12 non-null     float64\n",
      " 2   a3      12 non-null     float64\n",
      " 3   a4      12 non-null     float64\n",
      " 4   a5      12 non-null     float64\n",
      "dtypes: float64(5)\n",
      "memory usage: 576.0 bytes\n"
     ]
    }
   ],
   "source": [
    "df.info()"
   ]
  },
  {
   "cell_type": "markdown",
   "metadata": {},
   "source": [
    "4) Какие признаки имеют пропуски?"
   ]
  },
  {
   "cell_type": "code",
   "execution_count": 36,
   "metadata": {},
   "outputs": [
    {
     "data": {
      "text/html": [
       "<div>\n",
       "<style scoped>\n",
       "    .dataframe tbody tr th:only-of-type {\n",
       "        vertical-align: middle;\n",
       "    }\n",
       "\n",
       "    .dataframe tbody tr th {\n",
       "        vertical-align: top;\n",
       "    }\n",
       "\n",
       "    .dataframe thead th {\n",
       "        text-align: right;\n",
       "    }\n",
       "</style>\n",
       "<table border=\"1\" class=\"dataframe\">\n",
       "  <thead>\n",
       "    <tr style=\"text-align: right;\">\n",
       "      <th></th>\n",
       "      <th>a1</th>\n",
       "      <th>a2</th>\n",
       "      <th>a3</th>\n",
       "      <th>a4</th>\n",
       "      <th>a5</th>\n",
       "    </tr>\n",
       "  </thead>\n",
       "  <tbody>\n",
       "    <tr>\n",
       "      <th>2017-01-01</th>\n",
       "      <td>False</td>\n",
       "      <td>False</td>\n",
       "      <td>False</td>\n",
       "      <td>False</td>\n",
       "      <td>False</td>\n",
       "    </tr>\n",
       "    <tr>\n",
       "      <th>2017-01-02</th>\n",
       "      <td>False</td>\n",
       "      <td>False</td>\n",
       "      <td>False</td>\n",
       "      <td>False</td>\n",
       "      <td>False</td>\n",
       "    </tr>\n",
       "    <tr>\n",
       "      <th>2017-01-03</th>\n",
       "      <td>False</td>\n",
       "      <td>False</td>\n",
       "      <td>False</td>\n",
       "      <td>False</td>\n",
       "      <td>False</td>\n",
       "    </tr>\n",
       "    <tr>\n",
       "      <th>2017-01-04</th>\n",
       "      <td>False</td>\n",
       "      <td>False</td>\n",
       "      <td>False</td>\n",
       "      <td>False</td>\n",
       "      <td>False</td>\n",
       "    </tr>\n",
       "    <tr>\n",
       "      <th>2017-01-05</th>\n",
       "      <td>False</td>\n",
       "      <td>False</td>\n",
       "      <td>False</td>\n",
       "      <td>False</td>\n",
       "      <td>False</td>\n",
       "    </tr>\n",
       "    <tr>\n",
       "      <th>2017-01-06</th>\n",
       "      <td>False</td>\n",
       "      <td>False</td>\n",
       "      <td>False</td>\n",
       "      <td>False</td>\n",
       "      <td>False</td>\n",
       "    </tr>\n",
       "    <tr>\n",
       "      <th>2017-01-07</th>\n",
       "      <td>False</td>\n",
       "      <td>False</td>\n",
       "      <td>False</td>\n",
       "      <td>False</td>\n",
       "      <td>False</td>\n",
       "    </tr>\n",
       "    <tr>\n",
       "      <th>2017-01-08</th>\n",
       "      <td>False</td>\n",
       "      <td>False</td>\n",
       "      <td>False</td>\n",
       "      <td>False</td>\n",
       "      <td>False</td>\n",
       "    </tr>\n",
       "    <tr>\n",
       "      <th>2017-01-09</th>\n",
       "      <td>False</td>\n",
       "      <td>False</td>\n",
       "      <td>False</td>\n",
       "      <td>False</td>\n",
       "      <td>False</td>\n",
       "    </tr>\n",
       "    <tr>\n",
       "      <th>2017-01-10</th>\n",
       "      <td>False</td>\n",
       "      <td>False</td>\n",
       "      <td>False</td>\n",
       "      <td>False</td>\n",
       "      <td>False</td>\n",
       "    </tr>\n",
       "    <tr>\n",
       "      <th>2017-01-11</th>\n",
       "      <td>False</td>\n",
       "      <td>False</td>\n",
       "      <td>False</td>\n",
       "      <td>False</td>\n",
       "      <td>False</td>\n",
       "    </tr>\n",
       "    <tr>\n",
       "      <th>2017-01-12</th>\n",
       "      <td>False</td>\n",
       "      <td>False</td>\n",
       "      <td>False</td>\n",
       "      <td>False</td>\n",
       "      <td>False</td>\n",
       "    </tr>\n",
       "  </tbody>\n",
       "</table>\n",
       "</div>"
      ],
      "text/plain": [
       "               a1     a2     a3     a4     a5\n",
       "2017-01-01  False  False  False  False  False\n",
       "2017-01-02  False  False  False  False  False\n",
       "2017-01-03  False  False  False  False  False\n",
       "2017-01-04  False  False  False  False  False\n",
       "2017-01-05  False  False  False  False  False\n",
       "2017-01-06  False  False  False  False  False\n",
       "2017-01-07  False  False  False  False  False\n",
       "2017-01-08  False  False  False  False  False\n",
       "2017-01-09  False  False  False  False  False\n",
       "2017-01-10  False  False  False  False  False\n",
       "2017-01-11  False  False  False  False  False\n",
       "2017-01-12  False  False  False  False  False"
      ]
     },
     "execution_count": 36,
     "metadata": {},
     "output_type": "execute_result"
    }
   ],
   "source": [
    "pd.isnull(df)"
   ]
  },
  {
   "cell_type": "markdown",
   "metadata": {},
   "source": [
    "5) Как вы думаете, с чем связаны пропуски этих значение. Напишите развернутый ответ в ячейке ниже."
   ]
  },
  {
   "cell_type": "markdown",
   "metadata": {},
   "source": [
    "**ответ:** -"
   ]
  },
  {
   "cell_type": "markdown",
   "metadata": {},
   "source": [
    "6) Какие и сколько различных рабочих классов `workclass` представлено в выборке?"
   ]
  },
  {
   "cell_type": "code",
   "execution_count": 37,
   "metadata": {},
   "outputs": [
    {
     "data": {
      "text/plain": [
       "array(['a1', 'a2', 'a3', 'a4', 'a5'], dtype=object)"
      ]
     },
     "execution_count": 37,
     "metadata": {},
     "output_type": "execute_result"
    }
   ],
   "source": [
    "df.columns.values"
   ]
  },
  {
   "cell_type": "markdown",
   "metadata": {},
   "source": [
    "7) Какой средний возраст женщин и мужчин?"
   ]
  },
  {
   "cell_type": "code",
   "execution_count": 38,
   "metadata": {},
   "outputs": [
    {
     "data": {
      "text/plain": [
       "0.5311769647263133"
      ]
     },
     "execution_count": 38,
     "metadata": {},
     "output_type": "execute_result"
    }
   ],
   "source": [
    "df['a1'].mean()"
   ]
  },
  {
   "cell_type": "markdown",
   "metadata": {},
   "source": [
    "8) Постройте гистограмму(bar) распределения образования людей (education)"
   ]
  },
  {
   "cell_type": "code",
   "execution_count": 42,
   "metadata": {},
   "outputs": [
    {
     "data": {
      "text/plain": [
       "<AxesSubplot:>"
      ]
     },
     "execution_count": 42,
     "metadata": {},
     "output_type": "execute_result"
    },
    {
     "data": {
      "image/png": "[encoded data removed]",
      "text/plain": [
       "<Figure size 432x288 with 1 Axes>"
      ]
     },
     "metadata": {
      "needs_background": "light"
     },
     "output_type": "display_data"
    }
   ],
   "source": [
    "df['a2'].plot(kind='bar')"
   ]
  },
  {
   "cell_type": "markdown",
   "metadata": {},
   "source": [
    "9) Каковы средние значения и среднеквадратичные отклонения возраста тех, кто получает более 50K в год (признак salary) и тех, кто получает менее 50K в год?"
   ]
  },
  {
   "cell_type": "code",
   "execution_count": 61,
   "metadata": {},
   "outputs": [
    {
     "ename": "TypeError",
     "evalue": "'(2017-01-01     True\n2017-01-02    False\n2017-01-03    False\n2017-01-04    False\n2017-01-05    False\n2017-01-06    False\n2017-01-07     True\n2017-01-08    False\n2017-01-09     True\n2017-01-10    False\n2017-01-11     True\n2017-01-12     True\nFreq: D, Name: a2, dtype: bool, 5)' is an invalid key",
     "output_type": "error",
     "traceback": [
      "\u001b[1;31m---------------------------------------------------------------------------\u001b[0m",
      "\u001b[1;31mTypeError\u001b[0m                                 Traceback (most recent call last)",
      "\u001b[1;32m<ipython-input-61-5e5825021bde>\u001b[0m in \u001b[0;36m<module>\u001b[1;34m\u001b[0m\n\u001b[0;32m      4\u001b[0m \u001b[0md\u001b[0m\u001b[1;33m\u001b[0m\u001b[1;33m\u001b[0m\u001b[0m\n\u001b[0;32m      5\u001b[0m print(\"Mean if a2>0,5: {}Std if a2>0,5: {}\\Mean if a2<0,5: {}Std if a2<0,5: {}\".format(\n\u001b[1;32m----> 6\u001b[1;33m     \u001b[0md\u001b[0m\u001b[1;33m[\u001b[0m\u001b[0md\u001b[0m\u001b[1;33m[\u001b[0m\u001b[1;34m'a2'\u001b[0m\u001b[1;33m]\u001b[0m \u001b[1;33m>=\u001b[0m \u001b[1;36m0\u001b[0m\u001b[1;33m,\u001b[0m\u001b[1;36m5\u001b[0m\u001b[1;33m]\u001b[0m\u001b[1;33m[\u001b[0m\u001b[1;34m'a1'\u001b[0m\u001b[1;33m]\u001b[0m\u001b[1;33m.\u001b[0m\u001b[0mmean\u001b[0m\u001b[1;33m(\u001b[0m\u001b[1;33m)\u001b[0m\u001b[1;33m,\u001b[0m\u001b[1;33m\u001b[0m\u001b[1;33m\u001b[0m\u001b[0m\n\u001b[0m\u001b[0;32m      7\u001b[0m     \u001b[0md\u001b[0m\u001b[1;33m[\u001b[0m\u001b[0md\u001b[0m\u001b[1;33m[\u001b[0m\u001b[1;34m'a2'\u001b[0m\u001b[1;33m]\u001b[0m \u001b[1;33m>=\u001b[0m \u001b[1;36m0\u001b[0m\u001b[1;33m,\u001b[0m\u001b[1;36m5\u001b[0m\u001b[1;33m]\u001b[0m\u001b[1;33m[\u001b[0m\u001b[1;34m'a1'\u001b[0m\u001b[1;33m]\u001b[0m\u001b[1;33m.\u001b[0m\u001b[0mstd\u001b[0m\u001b[1;33m(\u001b[0m\u001b[1;33m)\u001b[0m\u001b[1;33m,\u001b[0m\u001b[1;33m\u001b[0m\u001b[1;33m\u001b[0m\u001b[0m\n\u001b[0;32m      8\u001b[0m     \u001b[0md\u001b[0m\u001b[1;33m[\u001b[0m\u001b[0md\u001b[0m\u001b[1;33m[\u001b[0m\u001b[1;34m'a2'\u001b[0m\u001b[1;33m]\u001b[0m \u001b[1;33m<=\u001b[0m \u001b[1;36m0\u001b[0m\u001b[1;33m,\u001b[0m\u001b[1;36m5\u001b[0m\u001b[1;33m]\u001b[0m\u001b[1;33m[\u001b[0m\u001b[1;34m'a1'\u001b[0m\u001b[1;33m]\u001b[0m\u001b[1;33m.\u001b[0m\u001b[0mmean\u001b[0m\u001b[1;33m(\u001b[0m\u001b[1;33m)\u001b[0m\u001b[1;33m,\u001b[0m\u001b[1;33m\u001b[0m\u001b[1;33m\u001b[0m\u001b[0m\n",
      "\u001b[1;32mc:\\python\\lib\\site-packages\\pandas\\core\\frame.py\u001b[0m in \u001b[0;36m__getitem__\u001b[1;34m(self, key)\u001b[0m\n\u001b[0;32m   2904\u001b[0m             \u001b[1;32mif\u001b[0m \u001b[0mself\u001b[0m\u001b[1;33m.\u001b[0m\u001b[0mcolumns\u001b[0m\u001b[1;33m.\u001b[0m\u001b[0mnlevels\u001b[0m \u001b[1;33m>\u001b[0m \u001b[1;36m1\u001b[0m\u001b[1;33m:\u001b[0m\u001b[1;33m\u001b[0m\u001b[1;33m\u001b[0m\u001b[0m\n\u001b[0;32m   2905\u001b[0m                 \u001b[1;32mreturn\u001b[0m \u001b[0mself\u001b[0m\u001b[1;33m.\u001b[0m\u001b[0m_getitem_multilevel\u001b[0m\u001b[1;33m(\u001b[0m\u001b[0mkey\u001b[0m\u001b[1;33m)\u001b[0m\u001b[1;33m\u001b[0m\u001b[1;33m\u001b[0m\u001b[0m\n\u001b[1;32m-> 2906\u001b[1;33m             \u001b[0mindexer\u001b[0m \u001b[1;33m=\u001b[0m \u001b[0mself\u001b[0m\u001b[1;33m.\u001b[0m\u001b[0mcolumns\u001b[0m\u001b[1;33m.\u001b[0m\u001b[0mget_loc\u001b[0m\u001b[1;33m(\u001b[0m\u001b[0mkey\u001b[0m\u001b[1;33m)\u001b[0m\u001b[1;33m\u001b[0m\u001b[1;33m\u001b[0m\u001b[0m\n\u001b[0m\u001b[0;32m   2907\u001b[0m             \u001b[1;32mif\u001b[0m \u001b[0mis_integer\u001b[0m\u001b[1;33m(\u001b[0m\u001b[0mindexer\u001b[0m\u001b[1;33m)\u001b[0m\u001b[1;33m:\u001b[0m\u001b[1;33m\u001b[0m\u001b[1;33m\u001b[0m\u001b[0m\n\u001b[0;32m   2908\u001b[0m                 \u001b[0mindexer\u001b[0m \u001b[1;33m=\u001b[0m \u001b[1;33m[\u001b[0m\u001b[0mindexer\u001b[0m\u001b[1;33m]\u001b[0m\u001b[1;33m\u001b[0m\u001b[1;33m\u001b[0m\u001b[0m\n",
      "\u001b[1;32mc:\\python\\lib\\site-packages\\pandas\\core\\indexes\\base.py\u001b[0m in \u001b[0;36mget_loc\u001b[1;34m(self, key, method, tolerance)\u001b[0m\n\u001b[0;32m   2893\u001b[0m             \u001b[0mcasted_key\u001b[0m \u001b[1;33m=\u001b[0m \u001b[0mself\u001b[0m\u001b[1;33m.\u001b[0m\u001b[0m_maybe_cast_indexer\u001b[0m\u001b[1;33m(\u001b[0m\u001b[0mkey\u001b[0m\u001b[1;33m)\u001b[0m\u001b[1;33m\u001b[0m\u001b[1;33m\u001b[0m\u001b[0m\n\u001b[0;32m   2894\u001b[0m             \u001b[1;32mtry\u001b[0m\u001b[1;33m:\u001b[0m\u001b[1;33m\u001b[0m\u001b[1;33m\u001b[0m\u001b[0m\n\u001b[1;32m-> 2895\u001b[1;33m                 \u001b[1;32mreturn\u001b[0m \u001b[0mself\u001b[0m\u001b[1;33m.\u001b[0m\u001b[0m_engine\u001b[0m\u001b[1;33m.\u001b[0m\u001b[0mget_loc\u001b[0m\u001b[1;33m(\u001b[0m\u001b[0mcasted_key\u001b[0m\u001b[1;33m)\u001b[0m\u001b[1;33m\u001b[0m\u001b[1;33m\u001b[0m\u001b[0m\n\u001b[0m\u001b[0;32m   2896\u001b[0m             \u001b[1;32mexcept\u001b[0m \u001b[0mKeyError\u001b[0m \u001b[1;32mas\u001b[0m \u001b[0merr\u001b[0m\u001b[1;33m:\u001b[0m\u001b[1;33m\u001b[0m\u001b[1;33m\u001b[0m\u001b[0m\n\u001b[0;32m   2897\u001b[0m                 \u001b[1;32mraise\u001b[0m \u001b[0mKeyError\u001b[0m\u001b[1;33m(\u001b[0m\u001b[0mkey\u001b[0m\u001b[1;33m)\u001b[0m \u001b[1;32mfrom\u001b[0m \u001b[0merr\u001b[0m\u001b[1;33m\u001b[0m\u001b[1;33m\u001b[0m\u001b[0m\n",
      "\u001b[1;32mpandas\\_libs\\index.pyx\u001b[0m in \u001b[0;36mpandas._libs.index.IndexEngine.get_loc\u001b[1;34m()\u001b[0m\n",
      "\u001b[1;32mpandas\\_libs\\index.pyx\u001b[0m in \u001b[0;36mpandas._libs.index.IndexEngine.get_loc\u001b[1;34m()\u001b[0m\n",
      "\u001b[1;31mTypeError\u001b[0m: '(2017-01-01     True\n2017-01-02    False\n2017-01-03    False\n2017-01-04    False\n2017-01-05    False\n2017-01-06    False\n2017-01-07     True\n2017-01-08    False\n2017-01-09     True\n2017-01-10    False\n2017-01-11     True\n2017-01-12     True\nFreq: D, Name: a2, dtype: bool, 5)' is an invalid key"
     ]
    }
   ],
   "source": [
    "indexes = pd.date_range('20170101', periods=12)\n",
    "matrix = np.random.randn(12, 5)\n",
    "d = pd.DataFrame(data=matrix, index=indexes, columns=['a1', 'a2', 'a3', 'a4', 'a5'])\n",
    "d\n",
    "print(\"Mean if a2>0,5: {}Std if a2>0,5: {}\\Mean if a2<0,5: {}Std if a2<0,5: {}\".format(\n",
    "    d[d['a2'] >= 0,5]['a1'].mean(),\n",
    "    d[d['a2'] >= 0,5]['a1'].std(),\n",
    "    d[d['a2'] <= 0,5]['a1'].mean(),\n",
    "    d[d['a2'] <= 0,5]['a1'].std()\n",
    "))"
   ]
  },
  {
   "cell_type": "markdown",
   "metadata": {},
   "source": [
    "10) Правда ли, что люди, которые получают больше 50k, имеют как минимум высшее образование? (признак education - Bachelors, Prof-school, Assoc-acdm, Assoc-voc, Masters или Doctorate)"
   ]
  },
  {
   "cell_type": "code",
   "execution_count": null,
   "metadata": {},
   "outputs": [],
   "source": [
    "#тк дадсет не работает придется скипнуть"
   ]
  },
  {
   "cell_type": "markdown",
   "metadata": {},
   "source": [
    "11) Среди кого больше доля зарабатывающих много (>50K): среди женатых или холостых мужчин (признак marital-status)? Женатыми считаем тех, у кого marital-status начинается с Married (Married-civ-spouse, Married-spouse-absent или Married-AF-spouse), остальных считаем холостыми."
   ]
  },
  {
   "cell_type": "code",
   "execution_count": null,
   "metadata": {},
   "outputs": [],
   "source": [
    "#тк дадсет не работает придется скипнуть"
   ]
  },
  {
   "cell_type": "markdown",
   "metadata": {},
   "source": [
    "12) Посчитайте среднее время работы (hours-per-week) зарабатывающих мало и много (salary) для каждой страны (native-country)."
   ]
  },
  {
   "cell_type": "code",
   "execution_count": null,
   "metadata": {},
   "outputs": [],
   "source": [
    "#тк дадсет не работает придется скипнуть"
   ]
  },
  {
   "cell_type": "markdown",
   "metadata": {},
   "source": [
    "13) Постройте сводную таблицу для сравнения уровня образования и разницы между capital.gain и capital.loss (то есть пассивный доход). Сделайте так, чтобы `capital.gain - capital.loss` создали не больше 10 разных уникальных значений. То есть, gain и loss - это числа в каком-то диапазоне. Это количественные признаки из вещественных чисел. С помощью математических функций, типа log, извлечение корня N-ой степени и округления можно перейти к категориальным признакам."
   ]
  },
  {
   "cell_type": "code",
   "execution_count": null,
   "metadata": {},
   "outputs": [],
   "source": [
    "#тк дадсет не работает придется скипнуть"
   ]
  },
  {
   "cell_type": "markdown",
   "metadata": {},
   "source": [
    "14) Женщины из каких стран получают в среднем большую зарплату (>50K) чаще."
   ]
  },
  {
   "cell_type": "code",
   "execution_count": null,
   "metadata": {},
   "outputs": [],
   "source": [
    "#тк дадсет не работает придется скипнуть"
   ]
  },
  {
   "cell_type": "markdown",
   "metadata": {},
   "source": [
    "15) Создайте случайную колонку - `magic_salary`, которую нужно будет вычислить следующим образом: если зарплата небольшая (<50K), тогда случайно выберите число из диапазона [0,50]. Если зарплата выше 50K тогда из диапазона [51, 200]. Посчитайте среднюю зарплату в час для групп людей с одни уровнем образования на основе нашей случайной колонки `magic_salary`"
   ]
  },
  {
   "cell_type": "code",
   "execution_count": null,
   "metadata": {},
   "outputs": [],
   "source": [
    "#тк дадсет не работает придется скипнуть"
   ]
  }
 ],
 "metadata": {
  "kernelspec": {
   "display_name": "Python 3",
   "language": "python",
   "name": "python3"
  },
  "language_info": {
   "codemirror_mode": {
    "name": "ipython",
    "version": 3
   },
   "file_extension": ".py",
   "mimetype": "text/x-python",
   "name": "python",
   "nbconvert_exporter": "python",
   "pygments_lexer": "ipython3",
   "version": "3.9.0"
  }
 },
 "nbformat": 4,
 "nbformat_minor": 2
}
